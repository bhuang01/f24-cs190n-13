{
 "cells": [
  {
   "cell_type": "code",
   "execution_count": null,
   "metadata": {},
   "outputs": [],
   "source": [
    "import os\n",
    "import pyshark\n",
    "import pandas as pd\n",
    "import numpy as np\n",
    "from sklearn.model_selection import train_test_split\n",
    "from sklearn.linear_model import LogisticRegression\n",
    "from sklearn.metrics import classification_report, accuracy_score\n",
    "import zipfile\n",
    "import shutil\n",
    "import py7zr"
   ]
  },
  {
   "cell_type": "code",
   "execution_count": null,
   "metadata": {},
   "outputs": [],
   "source": [
    "DATASET_DIR = 'path/to/USTC-TFC2016'\n",
    "\n",
    "# unzip and extract .7z files\n",
    "def extract_7z_files(dataset_dir):\n",
    "    for file in os.listdir(dataset_dir):\n",
    "        if file.endswith(\".7z\"):\n",
    "            filepath = os.path.join(dataset_dir, file)\n",
    "            extract_dir = os.path.join(dataset_dir, file[:-3])\n",
    "            with py7zr.SevenZipFile(filepath, mode='r') as archive:\n",
    "                archive.extractall(path=extract_dir)\n",
    "            print(f\"Extracted: {file}\")\n",
    "\n",
    "def extract_features(pcap_file):\n",
    "    \"\"\"\n",
    "    Extract basic features from a .pcap file.\n",
    "    Features include packet count, average packet size, and protocol distribution.\n",
    "    \"\"\"\n",
    "    cap = pyshark.FileCapture(pcap_file)\n",
    "    packet_count = 0\n",
    "    total_packet_size = 0\n",
    "    protocol_counts = {}\n",
    "    \n",
    "    for packet in cap:\n",
    "        packet_count += 1\n",
    "        total_packet_size += int(packet.length)\n",
    "        protocol = packet.highest_layer\n",
    "        protocol_counts[protocol] = protocol_counts.get(protocol, 0) + 1\n",
    "    \n",
    "    cap.close()\n",
    "    avg_packet_size = total_packet_size / packet_count if packet_count > 0 else 0\n",
    "    features = {\n",
    "        'packet_count': packet_count,\n",
    "        'avg_packet_size': avg_packet_size,\n",
    "        **protocol_counts\n",
    "    }\n",
    "    return features"
   ]
  },
  {
   "cell_type": "code",
   "execution_count": null,
   "metadata": {},
   "outputs": [],
   "source": [
    "extract_7z_files(DATASET_DIR)\n",
    "\n",
    "# parse benign and malignant directories\n",
    "benign_dir = os.path.join(DATASET_DIR, \"benign\")\n",
    "malignant_dir = os.path.join(DATASET_DIR, \"malignant\")\n",
    "\n",
    "# feature extraction\n",
    "data = []\n",
    "labels = []\n",
    "\n",
    "for label, category_dir in enumerate([benign_dir, malignant_dir]):\n",
    "    for root, _, files in os.walk(category_dir):\n",
    "        for file in files:\n",
    "            if file.endswith(\".pcap\"):\n",
    "                pcap_path = os.path.join(root, file)\n",
    "                try:\n",
    "                    features = extract_features(pcap_path)\n",
    "                    data.append(features)\n",
    "                    labels.append(label)  # 0 for benign, 1 for malignant\n",
    "                except Exception as e:\n",
    "                    print(f\"Error processing {pcap_path}: {e}\")"
   ]
  },
  {
   "cell_type": "code",
   "execution_count": null,
   "metadata": {},
   "outputs": [],
   "source": [
    "df = pd.DataFrame(data)\n",
    "df.fillna(0, inplace=True)  # fill missing features\n",
    "df['label'] = labels"
   ]
  },
  {
   "cell_type": "code",
   "execution_count": null,
   "metadata": {},
   "outputs": [],
   "source": [
    "X = df.drop(columns=['label'])\n",
    "y = df['label']\n",
    "X_train, X_test, y_train, y_test = train_test_split(X, y, test_size=0.2, random_state=42)"
   ]
  },
  {
   "cell_type": "code",
   "execution_count": null,
   "metadata": {},
   "outputs": [],
   "source": [
    "# train simple logistic regression model\n",
    "model = LogisticRegression(max_iter=1000)\n",
    "model.fit(X_train, y_train)"
   ]
  },
  {
   "cell_type": "code",
   "execution_count": null,
   "metadata": {},
   "outputs": [],
   "source": [
    "y_pred = model.predict(X_test)\n",
    "print(\"Accuracy:\", accuracy_score(y_test, y_pred))\n",
    "print(\"\\nClassification Report:\\n\", classification_report(y_test, y_pred))"
   ]
  }
 ],
 "metadata": {
  "kernelspec": {
   "display_name": "venv",
   "language": "python",
   "name": "python3"
  },
  "language_info": {
   "name": "python",
   "version": "3.10.15"
  }
 },
 "nbformat": 4,
 "nbformat_minor": 2
}
